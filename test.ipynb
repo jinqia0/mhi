{
 "cells": [
  {
   "cell_type": "code",
   "execution_count": 1,
   "metadata": {},
   "outputs": [],
   "source": [
    "import pandas as pd\n",
    "\n",
    "# 读取已保存的 CSV 文件\n",
    "csv_file = \"Datasets/Panda/panda_all_text_aes.csv\"  # 替换为你的文件路径\n",
    "df = pd.read_csv(csv_file)"
   ]
  },
  {
   "cell_type": "code",
   "execution_count": 5,
   "metadata": {},
   "outputs": [
    {
     "name": "stdout",
     "output_type": "stream",
     "text": [
      "筛选后的数据已保存到: panda_captions_100k.csv\n"
     ]
    }
   ],
   "source": [
    "# 定义需要匹配的路径\n",
    "target_paths = [\n",
    "    \"nvme/tmp/heyinan/panda/000/\",\n",
    "    \"nvme/tmp/heyinan/panda/001/\"\n",
    "]\n",
    "\n",
    "# 使用布尔索引筛选符合条件的行\n",
    "filtered_df = df[df['path'].str.contains('|'.join(target_paths), na=False)]\n",
    "\n",
    "# 保存筛选后的数据到新的 CSV 文件\n",
    "output_csv_file = \"panda_captions_100k.csv\"\n",
    "filtered_df.to_csv(output_csv_file, index=False)\n",
    "\n",
    "print(f\"筛选后的数据已保存到: {output_csv_file}\")"
   ]
  },
  {
   "cell_type": "code",
   "execution_count": 3,
   "metadata": {},
   "outputs": [
    {
     "name": "stdout",
     "output_type": "stream",
     "text": [
      "列名（Columns）:\n",
      "['path', 'text', 'aes']\n",
      "\n",
      "前几行的内容（Head）:\n",
      "                                                                                                                   path  \\\n",
      "0  /workspace/public/datasets/panda-30m/panda076-125/nvme/tmp/heyinan/panda/079/JUWYUZbdRXk-0:04:19.158-0:04:30.570.mp4   \n",
      "1  /workspace/public/datasets/panda-30m/panda076-125/nvme/tmp/heyinan/panda/079/4wkAnS8k-gQ-0:07:46.165-0:07:54.173.mp4   \n",
      "2  /workspace/public/datasets/panda-30m/panda076-125/nvme/tmp/heyinan/panda/079/8bI3Zj_YmdM-0:03:29.216-0:03:49.216.mp4   \n",
      "3  /workspace/public/datasets/panda-30m/panda076-125/nvme/tmp/heyinan/panda/079/KS8smVEdEjc-0:07:55.224-0:07:57.768.mp4   \n",
      "4  /workspace/public/datasets/panda-30m/panda076-125/nvme/tmp/heyinan/panda/079/Dzk8o9AxYMQ-0:00:20.270-0:00:23.356.mp4   \n",
      "\n",
      "                                                                                                                                                                                                                                                                                                                                                                                                                                                                                                                                                                                                                                                                                                                                                                                                                                                                                                                                                                                                                                                                                                     text  \\\n",
      "0                                                                                                                                                                                                                                                              The video is a close-up shot of an elderly person's face, with a focus on the eyes and nose. The person is wearing a hat and a mask, which covers the nose and mouth. The mask appears to be made of a translucent material, possibly plastic. The eyes are looking upwards and to the left, and the person's expression is neutral. The background is dark and out of focus, which highlights the person's face. There is text overlaying the image, which is in Korean. The text is white with a black outline and reads \"홍콩 환상의 순간\" which translates to \"Moment of Fantasy in Hong Kong.\" The text is superimposed on the image and is in the center of the frame. The style of the video is a close-up portrait with a focus on the person's face, and the use of text suggests that it may be a title or a description for the video.   \n",
      "1                                                                                                                                                                                                                                                                                                                                                                                              The video is a close-up shot of a woman's face, likely taken from a camera mounted on her chest or a similar perspective. She appears to be in a room with a neutral-toned wall and a door in the background. The woman has dark hair and is wearing a dark top. Her facial expression is neutral, and she seems to be speaking or singing, as her mouth is slightly open. The lighting in the room is soft, and the focus is on her face, making the background details less distinct. There are no visible texts or distinctive marks that provide additional context about the location or the content of the video. The style of the video is candid and seems to be a personal or informal recording.   \n",
      "2  The video captures a scene of a man engaged in a renovation project. He is standing in a room that appears to be undergoing construction. The walls are made of white bricks, and the floor is covered in debris, indicating that the renovation is in progress. The man is wearing a red shirt and a pair of jeans, and he is holding a hammer in his hand, suggesting that he is in the midst of some sort of repair work.  In the background, there is a large window that lets in a flood of natural light, illuminating the room and highlighting the dust and debris scattered around. The window is open, and the curtains are drawn back, revealing a glimpse of the outside world.  The man is standing in front of a white wall, which is partially covered in a white tarp. The tarp is secured with tape, indicating that it is being used to protect the wall from dust or debris. The man is looking down at the tarp, possibly assessing the progress of his work or planning his next move.  The video does not contain any text or additional objects, and the focus is solely on the   \n",
      "3                                                                                                                                                                                                                          The video captures a moment of interaction with a red lawn mower. The mower, with its black handle and black engine, is the main focus of the image. A person's hand, wearing a white watch, is seen holding the handle of the mower, ready to operate it. The mower is positioned on a grassy area, with a blue blanket visible on the ground nearby. The background is blurred, but it appears to be a garden or a park, suggesting an outdoor setting. The image does not contain any text. The relative position of the objects indicates that the person is about to use the mower for lawn maintenance. The blue blanket on the ground might be used for comfort or to protect the grass from the mower. The image does not provide any information about the time of day or the weather conditions. The overall scene suggests a typical day of gardening or lawn care.   \n",
      "4                                                                                                                                                                                                                                                                                                                                                                       The video captures a close-up view of a green leaf, which is the main subject. The leaf is attached to a branch, and the branch is part of a tree. The background is blurred, but it appears to be a garden or a park, suggesting a natural setting. The lighting suggests it might be either dawn or dusk, as the colors are warm and soft. There are no texts or other objects in the video. The leaf is in focus, while the background is out of focus, which draws attention to the leaf. The camera angle is low, looking up at the leaf, which adds to the intimate and detailed view of the leaf. The overall composition of the video is simple yet detailed, focusing solely on the leaf and its immediate surroundings.   \n",
      "\n",
      "        aes  \n",
      "0  3.870871  \n",
      "1  4.152093  \n",
      "2  4.028196  \n",
      "3  3.481089  \n",
      "4  4.592588  \n",
      "\n",
      "后几行的内容（Tail）:\n",
      "                                                                                                                          path  \\\n",
      "22628882  /workspace/public/datasets/panda-30m/panda300-374/nvme/tmp/heyinan/panda/366/bQKAb8dt420-0:01:08.640-0:01:14.960.mp4   \n",
      "22628883  /workspace/public/datasets/panda-30m/panda300-374/nvme/tmp/heyinan/panda/366/dRz1fJGpLRc-0:01:17.160-0:01:21.122.mp4   \n",
      "22628884  /workspace/public/datasets/panda-30m/panda300-374/nvme/tmp/heyinan/panda/366/cHurxltZ434-0:02:05.875-0:02:08.828.mp4   \n",
      "22628885  /workspace/public/datasets/panda-30m/panda300-374/nvme/tmp/heyinan/panda/366/kMcTFslVTgA-0:17:45.958-0:18:33.958.mp4   \n",
      "22628886  /workspace/public/datasets/panda-30m/panda300-374/nvme/tmp/heyinan/panda/366/inmK766PeQI-0:08:33.554-0:08:35.556.mp4   \n",
      "\n",
      "                                                                                                                                                                                                                                                                                                                                                                                                                                                                                                                                                                                                                                                                                                                                                                                                                                                                                                                                text  \\\n",
      "22628882  The video is a screenshot from a video game interface, specifically from the Ultimate Team mode of the game Madden NFL 21. The interface is designed to resemble a television screen with a scoreboard at the bottom. The scoreboard shows two teams, the Packers and the Vikings, with the Packers leading 14-7. The game is in the third quarter. The player's team is the Packers, and the Vikings are the opponents. The player has 127 yards rushing and 1 touchdown. The player's team has 127 yards rushing and 1 touchdown. The player has 127 yards rushing and 1 touchdown. The player's team has 127 yards rushing and 1 touchdown. The player has 127 yards rushing and 1 touchdown. The player's team has 127 yards rushing and 1 touchdown. The player has 127 yards rushing and 1 touchdown. The player's team has 127 yards rushing and 1 touchdown. The player has 127 yards rushing and 1 touchdown. The   \n",
      "22628883                                                                                                                                                                                                                                                                                                                                     The video shows a close-up of a bag of \"DOMINATOR PERENNIAL RYEGRASS\" with a green and white label. The label features the brand name \"DOMINATOR\" in large, bold, black letters at the top, followed by \"PERENNIAL RYEGRASS\" in smaller, white letters. The background is out of focus, but it appears to be a natural setting with greenery. The style of the video is straightforward and product-focused, likely intended for advertising or informational purposes. The lighting is bright, and the camera angle is slightly angled, providing a clear view of the product's label.   \n",
      "22628884                                                                                                                                                                                                                                                                      The video captures a moment inside a car, where a man with a beard and a bandana on his head is seated in the back seat. He is wearing a black jacket and appears to be in a good mood, as he is smiling and looking towards the camera. The car's interior is visible, with a glimpse of the dashboard and the rearview mirror. The car seems to be in motion, as suggested by the blurred background. The man's position in the back seat and his interaction with the camera suggest that he might be the driver or a passenger in the car. The video does not provide any additional context or information about the location or the time of day.   \n",
      "22628885                                                                                                                                                                                                                                                          The video shows a close-up of a person's hands working with metal components on a textured surface that appears to be a workbench or a mat. The person is wearing a ring on their left hand and is using their right hand to manipulate a metal object with a threaded shaft. The metal object has a silver finish and is being held in place with a clamp or vice. The background is blurred, but it seems to be an indoor setting with a focus on the hands and the metal object. There are no texts visible in the video. The style of the video is a real-life demonstration or tutorial, likely related to a DIY or craft project involving metal components.   \n",
      "22628886                                                                                                                                                                                                                                                                                                   The video captures a vibrant scene from a drag queen performance. The central figure is a drag queen, adorned in a purple jacket and a blonde wig, who is energetically dancing on a stage. The stage is set against a backdrop of a brick wall, adding a rustic charm to the scene. The drag queen is surrounded by a crowd of people, their faces blurred, indicating that the focus is solely on the performer. The drag queen is holding a microphone, suggesting that they are singing or speaking to the audience. The overall atmosphere of the video is lively and colorful, typical of a drag queen performance.   \n",
      "\n",
      "               aes  \n",
      "22628882  4.964776  \n",
      "22628883  4.006448  \n",
      "22628884  4.385547  \n",
      "22628885  4.957658  \n",
      "22628886  5.138772  \n",
      "\n",
      "随机几行的内容（Sample）:\n",
      "                                                                                                                          path  \\\n",
      "15887884  /workspace/public/datasets/panda-30m/panda000-074/nvme/tmp/heyinan/panda/027/xb1kzASSfn8-0:10:54.854-0:11:04.063.mp4   \n",
      "8609092   /workspace/public/datasets/panda-30m/panda375-440/nvme/tmp/heyinan/panda/397/rQ3ZGyrs5bA-0:00:20.520-0:00:23.320.mp4   \n",
      "325127    /workspace/public/datasets/panda-30m/panda076-125/nvme/tmp/heyinan/panda/078/UJeMo8bM_E0-0:04:38.125-0:04:40.833.mp4   \n",
      "\n",
      "                                                                                                                                                                                                                                                                                                                                                                                                                                                                                                                                                                                                                                                                                                                                                                                                                                                                                                                                                                                                                                                                                                                                      text  \\\n",
      "15887884                                                                                                                                                                                                                                                                                                                                                                                                                                                                                                                                                       The video is a close-up shot of a woman sitting in a room with a blurred background. She appears to be engaged in a conversation or possibly singing, as she is moving her mouth and her eyes are closed. The woman has long, straight blonde hair and is wearing a gray top. The room has a warm, indoor lighting and there are some objects in the background that are not clearly distinguishable due to the focus on the woman. There are no visible texts or distinctive brands in the video. The style of the video is candid and seems to capture a personal moment.   \n",
      "8609092   The video depicts an indoor scene where a man and a woman are seated, engaged in a medical examination. The man is wearing glasses and a short-sleeved shirt, and he appears to be in his senior years. The woman, who is wearing a black top and glasses, is attaching a blood pressure cuff to the man's arm. She is smiling and seems to be a healthcare professional, as suggested by her attire and the context of the situation.  The room has a clinical appearance with a white wall in the background and a door with a window. There is a poster on the wall with medical information, and a coat rack with a coat hanging on it. The lighting is bright, and the overall atmosphere is calm and professional.  There are no visible texts or distinctive brands in the image. The style of the video is a straightforward, unembellished depiction of a medical consultation, with a focus on the interaction between the two individuals and the equipment being used. The video does not contain any action or movement that would suggest a specific mood or emotion beyond the professional and clinical setting.   \n",
      "325127                                                                                The video captures a moment on a boat where a woman is engaged in the process of cleaning fish. She is kneeling on the deck of the boat, which is painted in a vibrant shade of red. The woman is dressed in a red and green apron, suggesting that she might be a fisherman or someone involved in the fishing industry.  In her hands, she holds a knife and a wooden cutting board, which she uses to clean the fish. The fish, caught fresh from the sea, are placed in a pink bucket next to her. The bucket is filled with water, presumably to keep the fish fresh.  The background of the video reveals more about the setting. The boat is floating on a body of water, and the sky above is a clear blue, suggesting a sunny day. The calm water and the clear sky create a serene atmosphere, contrasting with the woman's focused activity.  Overall, the video provides a glimpse into the daily life of someone involved in the fishing industry, showcasing the process of cleaning fish and the environment in which it takes place.   \n",
      "\n",
      "               aes  \n",
      "15887884  3.928510  \n",
      "8609092   4.882024  \n",
      "325127    4.881804  \n"
     ]
    }
   ],
   "source": [
    "# 查看列名\n",
    "print(\"列名（Columns）:\")\n",
    "print(df.columns.tolist())  # 输出所有列名\n",
    "\n",
    "# 查看前几行的内容（默认前5行）\n",
    "print(\"\\n前几行的内容（Head）:\")\n",
    "print(df.head())\n",
    "\n",
    "# 查看后几行的内容（默认后5行）\n",
    "print(\"\\n后几行的内容（Tail）:\")\n",
    "print(df.tail())\n",
    "\n",
    "# 查看随机几行的内容（例如随机3行）\n",
    "print(\"\\n随机几行的内容（Sample）:\")\n",
    "print(df.sample(3))"
   ]
  },
  {
   "cell_type": "code",
   "execution_count": 5,
   "metadata": {},
   "outputs": [
    {
     "name": "stdout",
     "output_type": "stream",
     "text": [
      "First 100 rows saved to ./filtered_captions_100_with_results.csv\n"
     ]
    }
   ],
   "source": [
    "import pandas as pd\n",
    "\n",
    "# 读取原始 CSV 文件\n",
    "input_csv_file = \"./filtered_captions_1000_with_results.csv\"  # 替换为你的输入文件路径\n",
    "df = pd.read_csv(input_csv_file)\n",
    "\n",
    "# 提取前 10000 行\n",
    "df_first_1000 = df.head(100)\n",
    "\n",
    "# 保存为新的 CSV 文件\n",
    "output_csv_file = \"./filtered_captions_100_with_results.csv\"  # 替换为输出文件路径\n",
    "df_first_1000.to_csv(output_csv_file, index=False)\n",
    "\n",
    "print(f\"First 100 rows saved to {output_csv_file}\")"
   ]
  },
  {
   "cell_type": "code",
   "execution_count": 17,
   "metadata": {},
   "outputs": [
    {
     "data": {
      "text/html": [
       "<div>\n",
       "<style scoped>\n",
       "    .dataframe tbody tr th:only-of-type {\n",
       "        vertical-align: middle;\n",
       "    }\n",
       "\n",
       "    .dataframe tbody tr th {\n",
       "        vertical-align: top;\n",
       "    }\n",
       "\n",
       "    .dataframe thead th {\n",
       "        text-align: right;\n",
       "    }\n",
       "</style>\n",
       "<table border=\"1\" class=\"dataframe\">\n",
       "  <thead>\n",
       "    <tr style=\"text-align: right;\">\n",
       "      <th></th>\n",
       "      <th>caption_id</th>\n",
       "      <th>caption</th>\n",
       "      <th>videoID</th>\n",
       "      <th>url</th>\n",
       "      <th>timestamp</th>\n",
       "      <th>multi_human_interaction</th>\n",
       "    </tr>\n",
       "  </thead>\n",
       "  <tbody>\n",
       "    <tr>\n",
       "      <th>26</th>\n",
       "      <td>--0Plt3vyt4_caption_2</td>\n",
       "      <td>The person is standing in front of an orange b...</td>\n",
       "      <td>--0Plt3vyt4</td>\n",
       "      <td>https://www.youtube.com/watch?v=--0Plt3vyt4</td>\n",
       "      <td>['0:03:48.728', '0:04:00.823']</td>\n",
       "      <td>Unknown.</td>\n",
       "    </tr>\n",
       "  </tbody>\n",
       "</table>\n",
       "</div>"
      ],
      "text/plain": [
       "               caption_id                                            caption  \\\n",
       "26  --0Plt3vyt4_caption_2  The person is standing in front of an orange b...   \n",
       "\n",
       "        videoID                                          url  \\\n",
       "26  --0Plt3vyt4  https://www.youtube.com/watch?v=--0Plt3vyt4   \n",
       "\n",
       "                         timestamp multi_human_interaction  \n",
       "26  ['0:03:48.728', '0:04:00.823']                Unknown.  "
      ]
     },
     "execution_count": 17,
     "metadata": {},
     "output_type": "execute_result"
    }
   ],
   "source": [
    "messages = [\n",
    "        {\"role\": \"system\", \"content\": \"\"\"\n",
    "         Determine if the following video caption likely describes a scene where multiple people are engaged in physical interaction.\n",
    "         Answer with 'Yes' if the caption suggests a high likelihood of physical interaction involving multiple people. Otherwise, answer with 'No' or 'Unknown'.\n",
    "         \"\"\"},\n",
    "        {\"role\": \"user\", \"content\": caption},\n",
    "    ]"
   ]
  }
 ],
 "metadata": {
  "kernelspec": {
   "display_name": "mhmg",
   "language": "python",
   "name": "mhmg"
  },
  "language_info": {
   "codemirror_mode": {
    "name": "ipython",
    "version": 3
   },
   "file_extension": ".py",
   "mimetype": "text/x-python",
   "name": "python",
   "nbconvert_exporter": "python",
   "pygments_lexer": "ipython3",
   "version": "3.10.16"
  }
 },
 "nbformat": 4,
 "nbformat_minor": 2
}
